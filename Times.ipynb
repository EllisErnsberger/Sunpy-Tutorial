{
 "cells": [
  {
   "cell_type": "code",
   "execution_count": null,
   "id": "358bb81c-77c3-4c4d-b931-495f69ca2f86",
   "metadata": {},
   "outputs": [],
   "source": []
  }
 ],
 "metadata": {
  "kernelspec": {
   "display_name": "",
   "name": ""
  },
  "language_info": {
   "name": ""
  }
 },
 "nbformat": 4,
 "nbformat_minor": 5
}
