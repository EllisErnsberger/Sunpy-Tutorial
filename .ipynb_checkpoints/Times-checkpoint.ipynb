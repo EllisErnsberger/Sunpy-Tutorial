{
 "cells": [
  {
   "cell_type": "markdown",
   "id": "1856035c-55f0-42c3-bae2-d1adc535e43a",
   "metadata": {},
   "source": [
    "# Times"
   ]
  },
  {
   "cell_type": "code",
   "execution_count": 1,
   "id": "162a9efa-0e0a-4e47-8a0c-7f9f97a1d81a",
   "metadata": {},
   "outputs": [],
   "source": [
    "#parsing times\n",
    "\n",
    "#sunpy.time.parse_time() for accpeting a variety of inputs and returning a conststent time object\n",
    "\n",
    "from sunpy.time import parse_time"
   ]
  },
  {
   "cell_type": "code",
   "execution_count": 2,
   "id": "14255e66-8c47-4382-a33c-2769ceecb4b1",
   "metadata": {},
   "outputs": [
    {
     "data": {
      "text/plain": [
       "<Time object: scale='utc' format='isot' value=2007-05-04T21:08:12.000>"
      ]
     },
     "execution_count": 2,
     "metadata": {},
     "output_type": "execute_result"
    }
   ],
   "source": [
    "parse_time('2007-05-04T21:08:12')"
   ]
  },
  {
   "cell_type": "code",
   "execution_count": 3,
   "id": "efec0e64-1c3b-4a3b-b0fa-cbb73c845e62",
   "metadata": {},
   "outputs": [
    {
     "data": {
      "text/plain": [
       "<Time object: scale='utc' format='utime' value=894316092.0>"
      ]
     },
     "execution_count": 3,
     "metadata": {},
     "output_type": "execute_result"
    }
   ],
   "source": [
    "parse_time(894316092.00000000, format='utime')"
   ]
  },
  {
   "cell_type": "code",
   "execution_count": 4,
   "id": "614314ba-56bb-483a-8d1f-b508e7f981f3",
   "metadata": {},
   "outputs": [],
   "source": [
    "#time ranges\n",
    "\n",
    "from sunpy.time import TimeRange\n",
    "\n",
    "time_range = TimeRange('2010/03/04 00:10', '2010/03/04 00:20')"
   ]
  },
  {
   "cell_type": "code",
   "execution_count": 5,
   "id": "730c1dfe-e276-4543-8727-7945f02e5ddf",
   "metadata": {},
   "outputs": [],
   "source": [
    "import astropy.units as u\n",
    "\n",
    "time_range = TimeRange('2010/03/04 00:10', 400 * u.second)"
   ]
  },
  {
   "cell_type": "code",
   "execution_count": 6,
   "id": "92378c8b-0b72-4fda-9c5c-54d1d18dc8db",
   "metadata": {},
   "outputs": [
    {
     "data": {
      "text/plain": [
       "<Time object: scale='utc' format='isot' value=2010-03-04T00:13:20.000>"
      ]
     },
     "execution_count": 6,
     "metadata": {},
     "output_type": "execute_result"
    }
   ],
   "source": [
    "time_range.center"
   ]
  },
  {
   "cell_type": "code",
   "execution_count": 7,
   "id": "ff67ec82-dfa8-4eaf-9f3e-1a7fcf6a8612",
   "metadata": {},
   "outputs": [
    {
     "data": {
      "text/latex": [
       "$400 \\; \\mathrm{s}$"
      ],
      "text/plain": [
       "<Quantity 400. s>"
      ]
     },
     "execution_count": 7,
     "metadata": {},
     "output_type": "execute_result"
    }
   ],
   "source": [
    "time_range.seconds"
   ]
  },
  {
   "cell_type": "code",
   "execution_count": 8,
   "id": "b2cd7aff-588d-4774-9767-652b265ef939",
   "metadata": {},
   "outputs": [
    {
     "data": {
      "text/plain": [
       "[   <sunpy.time.timerange.TimeRange object at 0x1ed0e0465d0>\n",
       "     Start: 2010-03-04 00:10:00\n",
       "     End:   2010-03-04 00:13:20\n",
       "     Center:2010-03-04 00:11:40\n",
       "     Duration:0.002314814814814825 days or\n",
       "            0.0555555555555558 hours or\n",
       "            3.333333333333348 minutes or\n",
       "            200.00000000000088 seconds,\n",
       "    <sunpy.time.timerange.TimeRange object at 0x1ed12953820>\n",
       "     Start: 2010-03-04 00:13:20\n",
       "     End:   2010-03-04 00:16:40\n",
       "     Center:2010-03-04 00:15:00\n",
       "     Duration:0.002314814814814825 days or\n",
       "            0.0555555555555558 hours or\n",
       "            3.333333333333348 minutes or\n",
       "            200.00000000000088 seconds]"
      ]
     },
     "execution_count": 8,
     "metadata": {},
     "output_type": "execute_result"
    }
   ],
   "source": [
    "time_range.split(2)"
   ]
  },
  {
   "cell_type": "code",
   "execution_count": null,
   "id": "5c7c236c-43dc-4d73-81df-1a5d09997039",
   "metadata": {},
   "outputs": [],
   "source": []
  }
 ],
 "metadata": {
  "kernelspec": {
   "display_name": "Python (sunpy)",
   "language": "python",
   "name": "sunpy"
  },
  "language_info": {
   "codemirror_mode": {
    "name": "ipython",
    "version": 3
   },
   "file_extension": ".py",
   "mimetype": "text/x-python",
   "name": "python",
   "nbconvert_exporter": "python",
   "pygments_lexer": "ipython3",
   "version": "3.13.3"
  }
 },
 "nbformat": 4,
 "nbformat_minor": 5
}
