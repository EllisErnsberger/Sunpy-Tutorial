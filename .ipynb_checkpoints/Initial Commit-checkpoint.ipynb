{
 "cells": [
  {
   "cell_type": "code",
   "execution_count": 2,
   "id": "89fe2618-a9ba-4e45-b1ab-29ec08e542ef",
   "metadata": {},
   "outputs": [],
   "source": [
    "#Initial Commit Test"
   ]
  },
  {
   "cell_type": "code",
   "execution_count": null,
   "id": "c2c44bfe-1e40-4d14-bfe5-a20bdae53f3f",
   "metadata": {},
   "outputs": [],
   "source": []
  }
 ],
 "metadata": {
  "kernelspec": {
   "display_name": "Python (sunpy)",
   "language": "python",
   "name": "sunpy"
  },
  "language_info": {
   "codemirror_mode": {
    "name": "ipython",
    "version": 3
   },
   "file_extension": ".py",
   "mimetype": "text/x-python",
   "name": "python",
   "nbconvert_exporter": "python",
   "pygments_lexer": "ipython3",
   "version": "3.13.3"
  }
 },
 "nbformat": 4,
 "nbformat_minor": 5
}
