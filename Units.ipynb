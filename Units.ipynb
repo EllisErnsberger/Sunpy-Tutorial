{
 "cells": [
  {
   "cell_type": "markdown",
   "id": "216bf23c-e1d4-4282-aafa-2741f06f76c4",
   "metadata": {},
   "source": [
    "## Units"
   ]
  },
  {
   "cell_type": "code",
   "execution_count": 1,
   "id": "efc00bc0-bce2-4797-9720-8477c1bfdf92",
   "metadata": {},
   "outputs": [],
   "source": [
    "import astropy.units as u"
   ]
  },
  {
   "cell_type": "code",
   "execution_count": 35,
   "id": "b8ac6401-8ca6-4c7b-aa71-e416b9a471ed",
   "metadata": {},
   "outputs": [
    {
     "data": {
      "text/latex": [
       "$10 \\; \\mathrm{m}$"
      ],
      "text/plain": [
       "<Quantity 10. m>"
      ]
     },
     "execution_count": 35,
     "metadata": {},
     "output_type": "execute_result"
    }
   ],
   "source": [
    "length = 10*u.meter\n",
    "length"
   ]
  },
  {
   "cell_type": "code",
   "execution_count": 36,
   "id": "ef99314d-d62c-4a08-b8de-67d2c8b62bc0",
   "metadata": {},
   "outputs": [
    {
     "data": {
      "text/plain": [
       "(np.float64(10.0), Unit(\"m\"))"
      ]
     },
     "execution_count": 36,
     "metadata": {},
     "output_type": "execute_result"
    }
   ],
   "source": [
    "#value of length and unit of length decomposed\n",
    "\n",
    "length.value, length.unit"
   ]
  },
  {
   "cell_type": "code",
   "execution_count": 37,
   "id": "44479b92-c040-4968-8c72-a81ef52c5ecf",
   "metadata": {},
   "outputs": [
    {
     "data": {
      "text/latex": [
       "$749.99999 \\; \\mathrm{km}$"
      ],
      "text/plain": [
       "<Quantity 749.99999 km>"
      ]
     },
     "execution_count": 37,
     "metadata": {},
     "output_type": "execute_result"
    }
   ],
   "source": [
    "#arithmetic with units\n",
    "\n",
    "distance_start = ds = 10 * u.mm\n",
    "distance_end = de = 750 * u.km\n",
    "displacement = de - ds\n",
    "displacement"
   ]
  },
  {
   "cell_type": "code",
   "execution_count": 38,
   "id": "8bd49da0-6903-442e-ad70-897e67e9fac5",
   "metadata": {},
   "outputs": [
    {
     "data": {
      "text/latex": [
       "$49.999999 \\; \\mathrm{\\frac{km}{min}}$"
      ],
      "text/plain": [
       "<Quantity 49.99999933 km / min>"
      ]
     },
     "execution_count": 38,
     "metadata": {},
     "output_type": "execute_result"
    }
   ],
   "source": [
    "time = t = 15 * u.minute\n",
    "speed = s = displacement/t\n",
    "speed"
   ]
  },
  {
   "cell_type": "code",
   "execution_count": 39,
   "id": "5a676d4e-80fb-4b22-9b13-7a5358c995ec",
   "metadata": {},
   "outputs": [
    {
     "data": {
      "text/latex": [
       "$0.01 \\; \\mathrm{km}$"
      ],
      "text/plain": [
       "<Quantity 0.01 km>"
      ]
     },
     "execution_count": 39,
     "metadata": {},
     "output_type": "execute_result"
    }
   ],
   "source": [
    "#conveting units\n",
    "\n",
    "length.to(u.km)"
   ]
  },
  {
   "cell_type": "code",
   "execution_count": 40,
   "id": "674baf04-33a8-46a0-b29b-f8ad20379125",
   "metadata": {},
   "outputs": [
    {
     "data": {
      "text/latex": [
       "$1000 \\; \\mathrm{cm}$"
      ],
      "text/plain": [
       "<Quantity 1000. cm>"
      ]
     },
     "execution_count": 40,
     "metadata": {},
     "output_type": "execute_result"
    }
   ],
   "source": [
    "length.cgs"
   ]
  },
  {
   "cell_type": "code",
   "execution_count": 41,
   "id": "f7aba8cd-169b-40a0-8290-28e90f44db72",
   "metadata": {},
   "outputs": [
    {
     "ename": "UnitConversionError",
     "evalue": "'m' (length) and 'keV' (energy/torque/work) are not convertible",
     "output_type": "error",
     "traceback": [
      "\u001b[31m---------------------------------------------------------------------------\u001b[39m",
      "\u001b[31mUnitConversionError\u001b[39m                       Traceback (most recent call last)",
      "\u001b[36mCell\u001b[39m\u001b[36m \u001b[39m\u001b[32mIn[41]\u001b[39m\u001b[32m, line 3\u001b[39m\n\u001b[32m      1\u001b[39m \u001b[38;5;66;03m#unit equivalencies\u001b[39;00m\n\u001b[32m----> \u001b[39m\u001b[32m3\u001b[39m \u001b[43mlength\u001b[49m\u001b[43m.\u001b[49m\u001b[43mto\u001b[49m\u001b[43m(\u001b[49m\u001b[43mu\u001b[49m\u001b[43m.\u001b[49m\u001b[43mkeV\u001b[49m\u001b[43m)\u001b[49m\n",
      "\u001b[36mFile \u001b[39m\u001b[32m~\\miniforge3\\envs\\sunpy\\Lib\\site-packages\\astropy\\units\\quantity.py:930\u001b[39m, in \u001b[36mQuantity.to\u001b[39m\u001b[34m(self, unit, equivalencies, copy)\u001b[39m\n\u001b[32m    926\u001b[39m unit = Unit(unit)\n\u001b[32m    927\u001b[39m \u001b[38;5;28;01mif\u001b[39;00m copy:\n\u001b[32m    928\u001b[39m     \u001b[38;5;66;03m# Avoid using to_value to ensure that we make a copy. We also\u001b[39;00m\n\u001b[32m    929\u001b[39m     \u001b[38;5;66;03m# don't want to slow down this method (esp. the scalar case).\u001b[39;00m\n\u001b[32m--> \u001b[39m\u001b[32m930\u001b[39m     value = \u001b[38;5;28;43mself\u001b[39;49m\u001b[43m.\u001b[49m\u001b[43m_to_value\u001b[49m\u001b[43m(\u001b[49m\u001b[43munit\u001b[49m\u001b[43m,\u001b[49m\u001b[43m \u001b[49m\u001b[43mequivalencies\u001b[49m\u001b[43m)\u001b[49m\n\u001b[32m    931\u001b[39m \u001b[38;5;28;01melse\u001b[39;00m:\n\u001b[32m    932\u001b[39m     \u001b[38;5;66;03m# to_value only copies if necessary\u001b[39;00m\n\u001b[32m    933\u001b[39m     value = \u001b[38;5;28mself\u001b[39m.to_value(unit, equivalencies)\n",
      "\u001b[36mFile \u001b[39m\u001b[32m~\\miniforge3\\envs\\sunpy\\Lib\\site-packages\\astropy\\units\\quantity.py:883\u001b[39m, in \u001b[36mQuantity._to_value\u001b[39m\u001b[34m(self, unit, equivalencies)\u001b[39m\n\u001b[32m    880\u001b[39m     equivalencies = \u001b[38;5;28mself\u001b[39m._equivalencies\n\u001b[32m    881\u001b[39m \u001b[38;5;28;01mif\u001b[39;00m \u001b[38;5;129;01mnot\u001b[39;00m \u001b[38;5;28mself\u001b[39m.dtype.names \u001b[38;5;129;01mor\u001b[39;00m \u001b[38;5;28misinstance\u001b[39m(\u001b[38;5;28mself\u001b[39m.unit, StructuredUnit):\n\u001b[32m    882\u001b[39m     \u001b[38;5;66;03m# Standard path, let unit to do work.\u001b[39;00m\n\u001b[32m--> \u001b[39m\u001b[32m883\u001b[39m     \u001b[38;5;28;01mreturn\u001b[39;00m \u001b[38;5;28;43mself\u001b[39;49m\u001b[43m.\u001b[49m\u001b[43munit\u001b[49m\u001b[43m.\u001b[49m\u001b[43mto\u001b[49m\u001b[43m(\u001b[49m\n\u001b[32m    884\u001b[39m \u001b[43m        \u001b[49m\u001b[43munit\u001b[49m\u001b[43m,\u001b[49m\u001b[43m \u001b[49m\u001b[38;5;28;43mself\u001b[39;49m\u001b[43m.\u001b[49m\u001b[43mview\u001b[49m\u001b[43m(\u001b[49m\u001b[43mnp\u001b[49m\u001b[43m.\u001b[49m\u001b[43mndarray\u001b[49m\u001b[43m)\u001b[49m\u001b[43m,\u001b[49m\u001b[43m \u001b[49m\u001b[43mequivalencies\u001b[49m\u001b[43m=\u001b[49m\u001b[43mequivalencies\u001b[49m\n\u001b[32m    885\u001b[39m \u001b[43m    \u001b[49m\u001b[43m)\u001b[49m\n\u001b[32m    887\u001b[39m \u001b[38;5;28;01melse\u001b[39;00m:\n\u001b[32m    888\u001b[39m     \u001b[38;5;66;03m# The .to() method of a simple unit cannot convert a structured\u001b[39;00m\n\u001b[32m    889\u001b[39m     \u001b[38;5;66;03m# dtype, so we work around it, by recursing.\u001b[39;00m\n\u001b[32m    890\u001b[39m     \u001b[38;5;66;03m# TODO: deprecate this?\u001b[39;00m\n\u001b[32m    891\u001b[39m     \u001b[38;5;66;03m# Convert simple to Structured on initialization?\u001b[39;00m\n\u001b[32m    892\u001b[39m     result = np.empty_like(\u001b[38;5;28mself\u001b[39m.view(np.ndarray))\n",
      "\u001b[36mFile \u001b[39m\u001b[32m~\\miniforge3\\envs\\sunpy\\Lib\\site-packages\\astropy\\units\\core.py:1205\u001b[39m, in \u001b[36mUnitBase.to\u001b[39m\u001b[34m(self, other, value, equivalencies)\u001b[39m\n\u001b[32m   1203\u001b[39m     \u001b[38;5;28;01mreturn\u001b[39;00m UNITY\n\u001b[32m   1204\u001b[39m \u001b[38;5;28;01melse\u001b[39;00m:\n\u001b[32m-> \u001b[39m\u001b[32m1205\u001b[39m     \u001b[38;5;28;01mreturn\u001b[39;00m \u001b[38;5;28;43mself\u001b[39;49m\u001b[43m.\u001b[49m\u001b[43mget_converter\u001b[49m\u001b[43m(\u001b[49m\u001b[43mUnit\u001b[49m\u001b[43m(\u001b[49m\u001b[43mother\u001b[49m\u001b[43m)\u001b[49m\u001b[43m,\u001b[49m\u001b[43m \u001b[49m\u001b[43mequivalencies\u001b[49m\u001b[43m)\u001b[49m(value)\n",
      "\u001b[36mFile \u001b[39m\u001b[32m~\\miniforge3\\envs\\sunpy\\Lib\\site-packages\\astropy\\units\\core.py:1134\u001b[39m, in \u001b[36mUnitBase.get_converter\u001b[39m\u001b[34m(self, other, equivalencies)\u001b[39m\n\u001b[32m   1131\u001b[39m             \u001b[38;5;28;01melse\u001b[39;00m:\n\u001b[32m   1132\u001b[39m                 \u001b[38;5;28;01mreturn\u001b[39;00m \u001b[38;5;28;01mlambda\u001b[39;00m v: b(converter(v))\n\u001b[32m-> \u001b[39m\u001b[32m1134\u001b[39m \u001b[38;5;28;01mraise\u001b[39;00m exc\n",
      "\u001b[36mFile \u001b[39m\u001b[32m~\\miniforge3\\envs\\sunpy\\Lib\\site-packages\\astropy\\units\\core.py:1117\u001b[39m, in \u001b[36mUnitBase.get_converter\u001b[39m\u001b[34m(self, other, equivalencies)\u001b[39m\n\u001b[32m   1115\u001b[39m \u001b[38;5;66;03m# if that doesn't work, maybe we can do it with equivalencies?\u001b[39;00m\n\u001b[32m   1116\u001b[39m \u001b[38;5;28;01mtry\u001b[39;00m:\n\u001b[32m-> \u001b[39m\u001b[32m1117\u001b[39m     \u001b[38;5;28;01mreturn\u001b[39;00m \u001b[38;5;28;43mself\u001b[39;49m\u001b[43m.\u001b[49m\u001b[43m_apply_equivalencies\u001b[49m\u001b[43m(\u001b[49m\n\u001b[32m   1118\u001b[39m \u001b[43m        \u001b[49m\u001b[38;5;28;43mself\u001b[39;49m\u001b[43m,\u001b[49m\u001b[43m \u001b[49m\u001b[43mother\u001b[49m\u001b[43m,\u001b[49m\u001b[43m \u001b[49m\u001b[38;5;28;43mself\u001b[39;49m\u001b[43m.\u001b[49m\u001b[43m_normalize_equivalencies\u001b[49m\u001b[43m(\u001b[49m\u001b[43mequivalencies\u001b[49m\u001b[43m)\u001b[49m\n\u001b[32m   1119\u001b[39m \u001b[43m    \u001b[49m\u001b[43m)\u001b[49m\n\u001b[32m   1120\u001b[39m \u001b[38;5;28;01mexcept\u001b[39;00m UnitsError \u001b[38;5;28;01mas\u001b[39;00m exc:\n\u001b[32m   1121\u001b[39m     \u001b[38;5;66;03m# Last hope: maybe other knows how to do it?\u001b[39;00m\n\u001b[32m   1122\u001b[39m     \u001b[38;5;66;03m# We assume the equivalencies have the unit itself as first item.\u001b[39;00m\n\u001b[32m   1123\u001b[39m     \u001b[38;5;66;03m# TODO: maybe better for other to have a `_back_converter` method?\u001b[39;00m\n\u001b[32m   1124\u001b[39m     \u001b[38;5;28;01mif\u001b[39;00m \u001b[38;5;28mhasattr\u001b[39m(other, \u001b[33m\"\u001b[39m\u001b[33mequivalencies\u001b[39m\u001b[33m\"\u001b[39m):\n",
      "\u001b[36mFile \u001b[39m\u001b[32m~\\miniforge3\\envs\\sunpy\\Lib\\site-packages\\astropy\\units\\core.py:1068\u001b[39m, in \u001b[36mUnitBase._apply_equivalencies\u001b[39m\u001b[34m(self, unit, other, equivalencies)\u001b[39m\n\u001b[32m   1065\u001b[39m unit_str = get_err_str(unit)\n\u001b[32m   1066\u001b[39m other_str = get_err_str(other)\n\u001b[32m-> \u001b[39m\u001b[32m1068\u001b[39m \u001b[38;5;28;01mraise\u001b[39;00m UnitConversionError(\u001b[33mf\u001b[39m\u001b[33m\"\u001b[39m\u001b[38;5;132;01m{\u001b[39;00munit_str\u001b[38;5;132;01m}\u001b[39;00m\u001b[33m and \u001b[39m\u001b[38;5;132;01m{\u001b[39;00mother_str\u001b[38;5;132;01m}\u001b[39;00m\u001b[33m are not convertible\u001b[39m\u001b[33m\"\u001b[39m)\n",
      "\u001b[31mUnitConversionError\u001b[39m: 'm' (length) and 'keV' (energy/torque/work) are not convertible"
     ]
    }
   ],
   "source": [
    "#unit equivalencies\n",
    "\n",
    "length.to(u.keV)"
   ]
  },
  {
   "cell_type": "code",
   "execution_count": null,
   "id": "cfb52820-ed10-46a0-b8bd-0295df7e2955",
   "metadata": {},
   "outputs": [],
   "source": [
    "#can proceed using the spectral equivalency (E = hc/lambda)\n",
    "\n",
    "length.to(u.keV, equivalencies=u.spectral())"
   ]
  },
  {
   "cell_type": "code",
   "execution_count": 42,
   "id": "833549fc-db1f-4ea3-bb78-149bbbcdb14f",
   "metadata": {},
   "outputs": [
    {
     "name": "stdout",
     "output_type": "stream",
     "text": [
      "INFO: Apparent body location accounts for 495.82 seconds of light travel time [sunpy.coordinates.ephemeris]\n"
     ]
    },
    {
     "data": {
      "text/latex": [
       "$1.3876375 \\times 10^{-5}\\mathrm{{}^{\\prime\\prime}}$"
      ],
      "text/plain": [
       "<Quantity 1.38763748e-05 arcsec>"
      ]
     },
     "execution_count": 42,
     "metadata": {},
     "output_type": "execute_result"
    }
   ],
   "source": [
    "#angular distance to physical distance\n",
    "#solar_angule_equivalency\n",
    "\n",
    "from sunpy.coordinates import get_earth\n",
    "from sunpy.coordinates.utils import solar_angle_equivalency\n",
    "\n",
    "length.to(u.arcsec, equivalencies = solar_angle_equivalency(get_earth(\"2013-10-28\")))"
   ]
  },
  {
   "cell_type": "code",
   "execution_count": 45,
   "id": "676dbd0e-9aa9-4059-ac02-1b64fbd6961c",
   "metadata": {},
   "outputs": [
    {
     "data": {
      "text/plain": [
       "np.float64(10.0)"
      ]
     },
     "execution_count": 45,
     "metadata": {},
     "output_type": "execute_result"
    }
   ],
   "source": [
    "#dropping units\n",
    "\n",
    "length.to_value()"
   ]
  },
  {
   "cell_type": "code",
   "execution_count": 46,
   "id": "9bdc33d7-8ddd-4d2c-9277-bb616edeaffa",
   "metadata": {},
   "outputs": [
    {
     "data": {
      "text/plain": [
       "np.float64(0.01)"
      ]
     },
     "execution_count": 46,
     "metadata": {},
     "output_type": "execute_result"
    }
   ],
   "source": [
    "length.to_value(u.km)"
   ]
  },
  {
   "cell_type": "code",
   "execution_count": 47,
   "id": "9f0e4e4b-84f8-4fe2-92c2-54cf9de06c58",
   "metadata": {},
   "outputs": [],
   "source": [
    "#quantities as function arguments\n",
    "\n",
    "def speed(length, time):\n",
    "    return length / time"
   ]
  },
  {
   "cell_type": "code",
   "execution_count": 48,
   "id": "f793c3cb-5ac4-4eea-b387-d09e5696fecd",
   "metadata": {},
   "outputs": [],
   "source": [
    "#to make sure units are proper\n",
    "\n",
    "@u.quantity_input\n",
    "def speed(length: u.m, time: u.s):\n",
    "    return length / time"
   ]
  },
  {
   "cell_type": "code",
   "execution_count": 49,
   "id": "1e28ea4b-14aa-4dcd-b2f2-ae332b060363",
   "metadata": {},
   "outputs": [],
   "source": [
    "#if units are incorrect, an error will be raised"
   ]
  },
  {
   "cell_type": "code",
   "execution_count": 50,
   "id": "3821338d-a460-4972-b0d7-1da54cb56518",
   "metadata": {},
   "outputs": [
    {
     "ename": "UnitsError",
     "evalue": "Argument 'time' to function 'speed' must be in units convertible to 's'.",
     "output_type": "error",
     "traceback": [
      "\u001b[31m---------------------------------------------------------------------------\u001b[39m",
      "\u001b[31mUnitsError\u001b[39m                                Traceback (most recent call last)",
      "\u001b[36mCell\u001b[39m\u001b[36m \u001b[39m\u001b[32mIn[50]\u001b[39m\u001b[32m, line 1\u001b[39m\n\u001b[32m----> \u001b[39m\u001b[32m1\u001b[39m \u001b[43mspeed\u001b[49m\u001b[43m(\u001b[49m\u001b[32;43m1\u001b[39;49m\u001b[43m*\u001b[49m\u001b[43mu\u001b[49m\u001b[43m.\u001b[49m\u001b[43mm\u001b[49m\u001b[43m,\u001b[49m\u001b[43m \u001b[49m\u001b[32;43m10\u001b[39;49m\u001b[43m*\u001b[49m\u001b[43mu\u001b[49m\u001b[43m.\u001b[49m\u001b[43mm\u001b[49m\u001b[43m)\u001b[49m\n",
      "\u001b[36mFile \u001b[39m\u001b[32m~\\miniforge3\\envs\\sunpy\\Lib\\site-packages\\astropy\\units\\decorators.py:298\u001b[39m, in \u001b[36mQuantityInput.__call__.<locals>.wrapper\u001b[39m\u001b[34m(*func_args, **func_kwargs)\u001b[39m\n\u001b[32m    290\u001b[39m         valid_targets = [\n\u001b[32m    291\u001b[39m             t\n\u001b[32m    292\u001b[39m             \u001b[38;5;28;01mfor\u001b[39;00m t \u001b[38;5;129;01min\u001b[39;00m valid_targets\n\u001b[32m    293\u001b[39m             \u001b[38;5;28;01mif\u001b[39;00m \u001b[38;5;28misinstance\u001b[39m(t, (\u001b[38;5;28mstr\u001b[39m, UnitBase, PhysicalType))\n\u001b[32m    294\u001b[39m         ]\n\u001b[32m    296\u001b[39m     \u001b[38;5;66;03m# Now we loop over the allowed units/physical types and validate\u001b[39;00m\n\u001b[32m    297\u001b[39m     \u001b[38;5;66;03m#   the value of the argument:\u001b[39;00m\n\u001b[32m--> \u001b[39m\u001b[32m298\u001b[39m     \u001b[43m_validate_arg_value\u001b[49m\u001b[43m(\u001b[49m\n\u001b[32m    299\u001b[39m \u001b[43m        \u001b[49m\u001b[43mparam\u001b[49m\u001b[43m.\u001b[49m\u001b[43mname\u001b[49m\u001b[43m,\u001b[49m\n\u001b[32m    300\u001b[39m \u001b[43m        \u001b[49m\u001b[43mwrapped_function\u001b[49m\u001b[43m.\u001b[49m\u001b[34;43m__name__\u001b[39;49m\u001b[43m,\u001b[49m\n\u001b[32m    301\u001b[39m \u001b[43m        \u001b[49m\u001b[43marg\u001b[49m\u001b[43m,\u001b[49m\n\u001b[32m    302\u001b[39m \u001b[43m        \u001b[49m\u001b[43mvalid_targets\u001b[49m\u001b[43m,\u001b[49m\n\u001b[32m    303\u001b[39m \u001b[43m        \u001b[49m\u001b[38;5;28;43mself\u001b[39;49m\u001b[43m.\u001b[49m\u001b[43mequivalencies\u001b[49m\u001b[43m,\u001b[49m\n\u001b[32m    304\u001b[39m \u001b[43m        \u001b[49m\u001b[38;5;28;43mself\u001b[39;49m\u001b[43m.\u001b[49m\u001b[43mstrict_dimensionless\u001b[49m\u001b[43m,\u001b[49m\n\u001b[32m    305\u001b[39m \u001b[43m    \u001b[49m\u001b[43m)\u001b[49m\n\u001b[32m    307\u001b[39m \u001b[38;5;28;01mif\u001b[39;00m \u001b[38;5;28mself\u001b[39m.equivalencies:\n\u001b[32m    308\u001b[39m     equiv_context = add_enabled_equivalencies(\u001b[38;5;28mself\u001b[39m.equivalencies)\n",
      "\u001b[36mFile \u001b[39m\u001b[32m~\\miniforge3\\envs\\sunpy\\Lib\\site-packages\\astropy\\units\\decorators.py:93\u001b[39m, in \u001b[36m_validate_arg_value\u001b[39m\u001b[34m(param_name, func_name, arg, targets, equivalencies, strict_dimensionless)\u001b[39m\n\u001b[32m     91\u001b[39m     \u001b[38;5;28;01mraise\u001b[39;00m UnitsError(\u001b[33mf\u001b[39m\u001b[33m\"\u001b[39m\u001b[38;5;132;01m{\u001b[39;00merror_msg\u001b[38;5;132;01m}\u001b[39;00m\u001b[33m one of: \u001b[39m\u001b[38;5;132;01m{\u001b[39;00mtarg_names\u001b[38;5;132;01m}\u001b[39;00m\u001b[33m.\u001b[39m\u001b[33m\"\u001b[39m)\n\u001b[32m     92\u001b[39m \u001b[38;5;28;01melse\u001b[39;00m:\n\u001b[32m---> \u001b[39m\u001b[32m93\u001b[39m     \u001b[38;5;28;01mraise\u001b[39;00m UnitsError(\u001b[33mf\u001b[39m\u001b[33m\"\u001b[39m\u001b[38;5;132;01m{\u001b[39;00merror_msg\u001b[38;5;132;01m}\u001b[39;00m\u001b[33m \u001b[39m\u001b[33m'\u001b[39m\u001b[38;5;132;01m{\u001b[39;00mtargets[\u001b[32m0\u001b[39m]\u001b[38;5;132;01m}\u001b[39;00m\u001b[33m'\u001b[39m\u001b[33m.\u001b[39m\u001b[33m\"\u001b[39m)\n",
      "\u001b[31mUnitsError\u001b[39m: Argument 'time' to function 'speed' must be in units convertible to 's'."
     ]
    }
   ],
   "source": [
    "speed(1*u.m, 10*u.m)"
   ]
  },
  {
   "cell_type": "code",
   "execution_count": 51,
   "id": "591bea35-dddb-42a5-b407-85ce0a14c69b",
   "metadata": {},
   "outputs": [
    {
     "data": {
      "text/latex": [
       "$1 \\; \\mathrm{\\frac{m}{min}}$"
      ],
      "text/plain": [
       "<Quantity 1. m / min>"
      ]
     },
     "execution_count": 51,
     "metadata": {},
     "output_type": "execute_result"
    }
   ],
   "source": [
    "speed(1*u.m, 1*u.minute)"
   ]
  },
  {
   "cell_type": "code",
   "execution_count": 52,
   "id": "8936c1e8-e4bd-424a-b874-0e5b20abb18c",
   "metadata": {},
   "outputs": [
    {
     "data": {
      "text/latex": [
       "$0.016666667 \\; \\mathrm{\\frac{m}{s}}$"
      ],
      "text/plain": [
       "<Quantity 0.01666667 m / s>"
      ]
     },
     "execution_count": 52,
     "metadata": {},
     "output_type": "execute_result"
    }
   ],
   "source": [
    "#forcing the output units to be in seconds\n",
    "\n",
    "@u.quantity_input\n",
    "def speed(length: u.m, time: u.s) -> u.m/u.s:\n",
    "    return length / time\n",
    "\n",
    "speed(1*u.m, 1*u.minute)"
   ]
  },
  {
   "cell_type": "code",
   "execution_count": null,
   "id": "4db836cd-b953-4561-8ede-a7579e8d26c8",
   "metadata": {},
   "outputs": [],
   "source": []
  }
 ],
 "metadata": {
  "kernelspec": {
   "display_name": "Python (sunpy)",
   "language": "python",
   "name": "sunpy"
  },
  "language_info": {
   "codemirror_mode": {
    "name": "ipython",
    "version": 3
   },
   "file_extension": ".py",
   "mimetype": "text/x-python",
   "name": "python",
   "nbconvert_exporter": "python",
   "pygments_lexer": "ipython3",
   "version": "3.13.3"
  }
 },
 "nbformat": 4,
 "nbformat_minor": 5
}
