{
 "cells": [
  {
   "cell_type": "markdown",
   "id": "79725b91-28f0-4875-a682-85c87d7e21a8",
   "metadata": {},
   "source": [
    "# Coordinates"
   ]
  },
  {
   "cell_type": "code",
   "execution_count": 1,
   "id": "9aa85a04-f63c-4279-8c37-befe660d78d9",
   "metadata": {},
   "outputs": [],
   "source": [
    "from astropy.coordinates import SkyCoord\n",
    "import astropy.units as u"
   ]
  },
  {
   "cell_type": "code",
   "execution_count": 2,
   "id": "0a246299-eb8c-4ff9-bb28-d3f3da882e54",
   "metadata": {},
   "outputs": [],
   "source": [
    "from sunpy.coordinates import frames"
   ]
  },
  {
   "cell_type": "code",
   "execution_count": 3,
   "id": "00fe8d08-9927-4c9a-9455-dcd04a24eb86",
   "metadata": {},
   "outputs": [
    {
     "data": {
      "text/plain": [
       "<SkyCoord (HeliographicStonyhurst: obstime=2017-08-01T00:00:00.000, rsun=695700.0 km): (lon, lat) in deg\n",
       "    (70., -30.)>"
      ]
     },
     "execution_count": 3,
     "metadata": {},
     "output_type": "execute_result"
    }
   ],
   "source": [
    "coord = SkyCoord(70*u.deg, -30*u.deg, obstime=\"2017-08-01\",\n",
    "                 frame=frames.HeliographicStonyhurst)\n",
    "coord"
   ]
  },
  {
   "cell_type": "code",
   "execution_count": 7,
   "id": "85917250-cec6-4a21-928f-82fc96c43af8",
   "metadata": {},
   "outputs": [
    {
     "data": {
      "text/plain": [
       "<SkyCoord (Helioprojective: obstime=2017-08-01T00:00:00.000, rsun=695700.0 km, observer=<HeliographicStonyhurst Coordinate for 'earth'>): (Tx, Ty, distance) in (arcsec, arcsec, km)\n",
       "    (769.96270814, -498.89715922, 1.51668773e+08)>"
      ]
     },
     "execution_count": 7,
     "metadata": {},
     "output_type": "execute_result"
    }
   ],
   "source": [
    "coord.transform_to(frames.Helioprojective(observer=\"earth\"))"
   ]
  },
  {
   "cell_type": "code",
   "execution_count": 9,
   "id": "2aa60490-d076-4390-90c4-b36e50dc5b4a",
   "metadata": {},
   "outputs": [
    {
     "data": {
      "text/plain": [
       "<SkyCoord (ICRS): (ra, dec, distance) in (deg, deg, km)\n",
       "    (49.84856512, 0.05394699, 1417743.94689472)>"
      ]
     },
     "execution_count": 9,
     "metadata": {},
     "output_type": "execute_result"
    }
   ],
   "source": [
    "coord.transform_to('icrs')"
   ]
  },
  {
   "cell_type": "code",
   "execution_count": 10,
   "id": "feb94a25-4120-4e34-a3e3-f9c3a9cb96bc",
   "metadata": {},
   "outputs": [
    {
     "data": {
      "text/plain": [
       "<SkyCoord (Helioprojective: obstime=None, rsun=695700.0 km, observer=None): (Tx, Ty) in arcsec\n",
       "    [(-500., 100.), ( 400., 200.)]>"
      ]
     },
     "execution_count": 10,
     "metadata": {},
     "output_type": "execute_result"
    }
   ],
   "source": [
    "coord = SkyCoord([-500, 400]*u.arcsec, [100, 200]*u.arcsec, frame=frames.Helioprojective)\n",
    "coord"
   ]
  },
  {
   "cell_type": "code",
   "execution_count": 11,
   "id": "0ce2d278-03fa-437c-b9b1-575d8a16ef89",
   "metadata": {},
   "outputs": [
    {
     "data": {
      "text/plain": [
       "<SkyCoord (Helioprojective: obstime=None, rsun=695700.0 km, observer=None): (Tx, Ty) in arcsec\n",
       "    (-500., 100.)>"
      ]
     },
     "execution_count": 11,
     "metadata": {},
     "output_type": "execute_result"
    }
   ],
   "source": [
    "coord[0]"
   ]
  },
  {
   "cell_type": "code",
   "execution_count": 12,
   "id": "0a2ead4c-5232-4511-a209-caf3d78a46f6",
   "metadata": {},
   "outputs": [],
   "source": [
    "#observer location"
   ]
  },
  {
   "cell_type": "code",
   "execution_count": null,
   "id": "e9927880-872c-42f1-a33d-66e15b3c9e63",
   "metadata": {},
   "outputs": [],
   "source": []
  }
 ],
 "metadata": {
  "kernelspec": {
   "display_name": "Python (sunpy)",
   "language": "python",
   "name": "sunpy"
  },
  "language_info": {
   "codemirror_mode": {
    "name": "ipython",
    "version": 3
   },
   "file_extension": ".py",
   "mimetype": "text/x-python",
   "name": "python",
   "nbconvert_exporter": "python",
   "pygments_lexer": "ipython3",
   "version": "3.13.3"
  }
 },
 "nbformat": 4,
 "nbformat_minor": 5
}
